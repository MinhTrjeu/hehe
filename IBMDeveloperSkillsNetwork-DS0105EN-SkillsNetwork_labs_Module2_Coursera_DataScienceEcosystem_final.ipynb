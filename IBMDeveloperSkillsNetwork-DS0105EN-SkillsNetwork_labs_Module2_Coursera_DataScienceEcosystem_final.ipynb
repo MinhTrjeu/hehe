{
  "metadata": {
    "kernelspec": {
      "name": "python",
      "display_name": "Pyolite",
      "language": "python"
    },
    "language_info": {
      "codemirror_mode": {
        "name": "python",
        "version": 3
      },
      "file_extension": ".py",
      "mimetype": "text/x-python",
      "name": "python",
      "nbconvert_exporter": "python",
      "pygments_lexer": "ipython3",
      "version": "3.8"
    }
  },
  "nbformat_minor": 4,
  "nbformat": 4,
  "cells": [
    {
      "cell_type": "markdown",
      "source": "<center>\n    <img src=\"https://cf-courses-data.s3.us.cloud-object-storage.appdomain.cloud/IBMDeveloperSkillsNetwork-DS0105EN-SkillsNetwork/labs/Module2/images/SN_web_lightmode.png\" width=\"300\" alt=\"cognitiveclass.ai logo\">\n</center>\n",
      "metadata": {}
    },
    {
      "cell_type": "markdown",
      "source": "### Data Science Tools and Ecosystem",
      "metadata": {}
    },
    {
      "cell_type": "markdown",
      "source": "In this notebook, Data Science Tools and Ecosystem are summarized.\n#### Objectives:\n-   Fish\n-   Eggs\n-   Cheese",
      "metadata": {}
    },
    {
      "cell_type": "markdown",
      "source": "Some of the popular languages that Data Scientists use are:\n1. Python\n2. R\n3. Scala",
      "metadata": {}
    },
    {
      "cell_type": "markdown",
      "source": "Some of the commonly used libraries used by Data Scientists include:\n1. Pandas\n2. Matlotlib\n3. sklearn\n",
      "metadata": {}
    },
    {
      "cell_type": "markdown",
      "source": "| Tool             | Description                                                        |\n|------------------|--------------------------------------------------------------------|\n| Python           | General-purpose programming language used for data science tasks   |\n| R                | Programming language and software environment for statistical computing and graphics |\n| SQL              | Structured Query Language used to manage and manipulate databases   |\n| Tableau          | Data visualization tool used for creating interactive dashboards    |",
      "metadata": {}
    },
    {
      "cell_type": "markdown",
      "source": "Below are a few examples of evaluating arithmetic expressions in Python.\nArithmetic expressions are mathematical operations that involve two or more values. In Python, you can perform the following arithmetic operations:\n\n| Operator | Description |\n|----------|-------------|\n| +        | Addition    |\n| -        | Subtraction |\n| *        | Multiplication |\n| /        | Division   |\n| %        | Modulus (remainder) |\n| **       | Exponentiation |",
      "metadata": {}
    },
    {
      "cell_type": "code",
      "source": "a = 3\nb = 4\nc = 5 \nResult = a +(b*c)\nprint(Result)",
      "metadata": {
        "trusted": true
      },
      "execution_count": 4,
      "outputs": [
        {
          "name": "stdout",
          "text": "23\n",
          "output_type": "stream"
        }
      ]
    },
    {
      "cell_type": "code",
      "source": "# This will convert 200 minutes to hours by diving by 60\nMins = 200\nHours = Mins/60\nprint(Hours)",
      "metadata": {
        "trusted": true
      },
      "execution_count": 6,
      "outputs": [
        {
          "name": "stdout",
          "text": "3.3333333333333335\n",
          "output_type": "stream"
        }
      ]
    },
    {
      "cell_type": "markdown",
      "source": "### Minh Trieu\nhehe",
      "metadata": {}
    },
    {
      "cell_type": "code",
      "source": "",
      "metadata": {},
      "execution_count": null,
      "outputs": []
    }
  ]
}